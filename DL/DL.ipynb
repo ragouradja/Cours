{
  "nbformat": 4,
  "nbformat_minor": 0,
  "metadata": {
    "colab": {
      "name": "DL.ipynb",
      "provenance": [],
      "collapsed_sections": []
    },
    "kernelspec": {
      "name": "python3",
      "display_name": "Python 3"
    },
    "language_info": {
      "name": "python"
    }
  },
  "cells": [
    {
      "cell_type": "code",
      "metadata": {
        "id": "FJM8TunaJNko"
      },
      "source": [
        "import pandas as pd\n",
        "from matplotlib import pyplot\n",
        "import tensorflow as tf\n",
        "from tensorflow import keras\n",
        "from tensorflow.keras import layers\n",
        "import numpy as np"
      ],
      "execution_count": 25,
      "outputs": []
    },
    {
      "cell_type": "code",
      "metadata": {
        "id": "RjGNEZ2aJPBz"
      },
      "source": [
        "num_classes = 10\n",
        "\n",
        "(train_X, train_y), (test_X, test_y) = keras.datasets.mnist.load_data()"
      ],
      "execution_count": 96,
      "outputs": []
    },
    {
      "cell_type": "code",
      "metadata": {
        "id": "nLboBe4vP6kE"
      },
      "source": [
        "# On mets les datas en 32 bits et normalisation 255 des couleurs\n",
        "#train_X = train_X.astype(\"float32\") / 255\n",
        "#test_X = test_X.astype(\"float32\") / 255\n"
      ],
      "execution_count": 62,
      "outputs": []
    },
    {
      "cell_type": "code",
      "metadata": {
        "colab": {
          "base_uri": "https://localhost:8080/"
        },
        "id": "gIBcE9y3P6mH",
        "outputId": "fa2113e4-f336-427d-b91e-4cfda2d64756"
      },
      "source": [
        "# Avoir shape (28, 28, 1)\n",
        "train_X = np.expand_dims(train_X, -1)\n",
        "test_X = np.expand_dims(test_X, -1)\n",
        "\n",
        "\n",
        "\n",
        "print(\"Train x shape : \", train_X.shape)"
      ],
      "execution_count": 97,
      "outputs": [
        {
          "output_type": "stream",
          "name": "stdout",
          "text": [
            "Train x shape :  (60000, 28, 28, 1)\n"
          ]
        }
      ]
    },
    {
      "cell_type": "code",
      "metadata": {
        "colab": {
          "base_uri": "https://localhost:8080/"
        },
        "id": "VkXLyFS1QvNW",
        "outputId": "83f4b9e1-462b-445a-9a11-84fed6d21195"
      },
      "source": [
        "print('X_train: ' + str(train_X.shape))\n",
        "print('Y_train: ' + str(train_y.shape))\n",
        "print('X_test:  '  + str(test_X.shape))\n",
        "print('Y_test:  '  + str(test_y.shape))"
      ],
      "execution_count": 98,
      "outputs": [
        {
          "output_type": "stream",
          "name": "stdout",
          "text": [
            "X_train: (60000, 28, 28, 1)\n",
            "Y_train: (60000,)\n",
            "X_test:  (10000, 28, 28, 1)\n",
            "Y_test:  (10000,)\n"
          ]
        }
      ]
    },
    {
      "cell_type": "code",
      "metadata": {
        "id": "y4mhwNiRJPG1"
      },
      "source": [
        ""
      ],
      "execution_count": null,
      "outputs": []
    },
    {
      "cell_type": "code",
      "metadata": {
        "id": "5Fk42LVwJPJX"
      },
      "source": [
        "train_y = keras.utils.to_categorical(train_y, num_classes)\n",
        "test_y = keras.utils.to_categorical(test_y, num_classes)"
      ],
      "execution_count": 99,
      "outputs": []
    },
    {
      "cell_type": "code",
      "metadata": {
        "id": "NxxgbmJHJPLI"
      },
      "source": [
        "# Plot des images\n",
        "for i in range(9):  \n",
        "  pyplot.subplot(330 + 1 + i)\n",
        "  pyplot.imshow(train_X[i], cmap=pyplot.get_cmap('gray'))\n",
        "pyplot.show()"
      ],
      "execution_count": null,
      "outputs": []
    },
    {
      "cell_type": "code",
      "metadata": {
        "colab": {
          "base_uri": "https://localhost:8080/"
        },
        "id": "15stqmqVJPNM",
        "outputId": "ee9e8671-6431-4dfe-de9d-5e926bde6ad1"
      },
      "source": [
        "(train_X, train_y), (test_X, test_y) = keras.datasets.mnist.load_data()\n",
        "\n",
        "#train_y = keras.utils.to_categorical(train_y, num_classes)\n",
        "#test_y = keras.utils.to_categorical(test_y, num_classes)\n",
        "\n",
        "train_X = train_X.reshape(60000, 784).astype(\"float32\") / 255\n",
        "test_X = test_X.reshape(10000, 784).astype(\"float32\") / 255\n",
        "print('X_train: ' + str(train_X.shape))\n",
        "print('Y_train: ' + str(train_y.shape))\n",
        "print('X_test:  '  + str(test_X.shape))\n",
        "print('Y_test:  '  + str(test_y.shape))\n",
        "train_y"
      ],
      "execution_count": 117,
      "outputs": [
        {
          "output_type": "stream",
          "name": "stdout",
          "text": [
            "X_train: (60000, 784)\n",
            "Y_train: (60000,)\n",
            "X_test:  (10000, 784)\n",
            "Y_test:  (10000,)\n"
          ]
        },
        {
          "output_type": "execute_result",
          "data": {
            "text/plain": [
              "array([5, 0, 4, ..., 5, 6, 8], dtype=uint8)"
            ]
          },
          "metadata": {},
          "execution_count": 117
        }
      ]
    },
    {
      "cell_type": "code",
      "metadata": {
        "colab": {
          "base_uri": "https://localhost:8080/"
        },
        "id": "mViNf5wrT5Qt",
        "outputId": "60f3d962-f907-4c38-a046-8b0868f1d846"
      },
      "source": [
        "input_shape = (784,)\n",
        "inputs = keras.Input(shape=input_shape)\n",
        "print(inputs.shape)\n",
        "print(inputs.dtype)\n"
      ],
      "execution_count": 118,
      "outputs": [
        {
          "output_type": "stream",
          "name": "stdout",
          "text": [
            "(None, 784)\n",
            "<dtype: 'float32'>\n"
          ]
        }
      ]
    },
    {
      "cell_type": "code",
      "metadata": {
        "id": "zHmbgQwuT5Tk"
      },
      "source": [
        "dense = layers.Dense(64, activation = 'relu')\n",
        "x = dense(inputs)\n",
        "x = layers.Dense(64, activation='relu')(x)\n",
        "outputs = layers.Dense(10)(x)"
      ],
      "execution_count": 119,
      "outputs": []
    },
    {
      "cell_type": "code",
      "metadata": {
        "id": "WuTFjAhoT5V3"
      },
      "source": [
        "model = keras.Model(inputs=inputs, outputs=outputs, name='mnist_model')"
      ],
      "execution_count": 120,
      "outputs": []
    },
    {
      "cell_type": "code",
      "metadata": {
        "colab": {
          "base_uri": "https://localhost:8080/"
        },
        "id": "9-ee-6UVT5YS",
        "outputId": "0841ba9f-a353-4773-96b7-1e1550422b82"
      },
      "source": [
        "model.summary()"
      ],
      "execution_count": 114,
      "outputs": [
        {
          "output_type": "stream",
          "name": "stdout",
          "text": [
            "Model: \"mnist_model\"\n",
            "_________________________________________________________________\n",
            "Layer (type)                 Output Shape              Param #   \n",
            "=================================================================\n",
            "input_4 (InputLayer)         [(None, 784)]             0         \n",
            "_________________________________________________________________\n",
            "dense_9 (Dense)              (None, 64)                50240     \n",
            "_________________________________________________________________\n",
            "dense_10 (Dense)             (None, 64)                4160      \n",
            "_________________________________________________________________\n",
            "dense_11 (Dense)             (None, 10)                650       \n",
            "=================================================================\n",
            "Total params: 55,050\n",
            "Trainable params: 55,050\n",
            "Non-trainable params: 0\n",
            "_________________________________________________________________\n"
          ]
        }
      ]
    },
    {
      "cell_type": "code",
      "metadata": {
        "colab": {
          "base_uri": "https://localhost:8080/",
          "height": 369
        },
        "id": "L-dlHhClT5ay",
        "outputId": "0c70b8ee-bf54-46bf-acad-0efc79e8ae5b"
      },
      "source": [
        "keras.utils.plot_model(model, \"first_plot.png\")"
      ],
      "execution_count": 106,
      "outputs": [
        {
          "output_type": "execute_result",
          "data": {
            "image/png": "[encoded data removed]",
            "text/plain": [
              "<IPython.core.display.Image object>"
            ]
          },
          "metadata": {},
          "execution_count": 106
        }
      ]
    },
    {
      "cell_type": "code",
      "metadata": {
        "colab": {
          "base_uri": "https://localhost:8080/",
          "height": 422
        },
        "id": "3npseTxiT5c0",
        "outputId": "607bc4d8-d2ab-49d3-b39e-6729489f7256"
      },
      "source": [
        "keras.utils.plot_model(model, \"first_plot.png\", show_shapes = True)\n"
      ],
      "execution_count": 81,
      "outputs": [
        {
          "output_type": "execute_result",
          "data": {
            "image/png": "[encoded data removed]",
            "text/plain": [
              "<IPython.core.display.Image object>"
            ]
          },
          "metadata": {},
          "execution_count": 81
        }
      ]
    },
    {
      "cell_type": "code",
      "metadata": {
        "id": "5FmeiJVxJPQo"
      },
      "source": [
        "# SpartseCategorical remplace les 2 lignes de category\n",
        "model.compile(\n",
        "    loss = keras.losses.SparseCategoricalCrossentropy(from_logits=True),\n",
        "    optimizer = keras.optimizers.RMSprop(),\n",
        "    metrics = [\"accuracy\"]\n",
        ")"
      ],
      "execution_count": 121,
      "outputs": []
    },
    {
      "cell_type": "code",
      "metadata": {
        "colab": {
          "base_uri": "https://localhost:8080/"
        },
        "id": "vHX1d7FZXLeV",
        "outputId": "129daba5-3573-4ced-e80c-71ac54b9cec4"
      },
      "source": [
        "history = model.fit(train_X, train_y, batch_size = 64, epochs = 5, validation_split = 0.2)"
      ],
      "execution_count": 122,
      "outputs": [
        {
          "output_type": "stream",
          "name": "stdout",
          "text": [
            "Epoch 1/5\n",
            "750/750 [==============================] - 3s 4ms/step - loss: 0.3603 - accuracy: 0.8964 - val_loss: 0.1863 - val_accuracy: 0.9459\n",
            "Epoch 2/5\n",
            "750/750 [==============================] - 2s 3ms/step - loss: 0.1703 - accuracy: 0.9495 - val_loss: 0.1442 - val_accuracy: 0.9582\n",
            "Epoch 3/5\n",
            "750/750 [==============================] - 2s 3ms/step - loss: 0.1238 - accuracy: 0.9634 - val_loss: 0.1252 - val_accuracy: 0.9627\n",
            "Epoch 4/5\n",
            "750/750 [==============================] - 2s 3ms/step - loss: 0.0979 - accuracy: 0.9705 - val_loss: 0.1277 - val_accuracy: 0.9645\n",
            "Epoch 5/5\n",
            "750/750 [==============================] - 3s 3ms/step - loss: 0.0814 - accuracy: 0.9758 - val_loss: 0.1085 - val_accuracy: 0.9672\n"
          ]
        }
      ]
    },
    {
      "cell_type": "code",
      "metadata": {
        "colab": {
          "base_uri": "https://localhost:8080/"
        },
        "id": "68V5xmFXXLga",
        "outputId": "c38e7ad2-39c9-43f9-a806-173050db3897"
      },
      "source": [
        "_, acc = model.evaluate(test_X, test_y, verbose = 1)\n",
        "print(f\"{acc * 100}\")"
      ],
      "execution_count": 125,
      "outputs": [
        {
          "output_type": "stream",
          "name": "stdout",
          "text": [
            "313/313 [==============================] - 0s 1ms/step - loss: 0.1046 - accuracy: 0.9671\n",
            "96.71000242233276\n"
          ]
        }
      ]
    },
    {
      "cell_type": "code",
      "metadata": {
        "colab": {
          "base_uri": "https://localhost:8080/"
        },
        "id": "wu-GFjQuXLir",
        "outputId": "bf3d54e9-94be-4da8-903f-e72be4559fa2"
      },
      "source": [
        "print(history.history.keys())"
      ],
      "execution_count": 127,
      "outputs": [
        {
          "output_type": "stream",
          "name": "stdout",
          "text": [
            "dict_keys(['loss', 'accuracy', 'val_loss', 'val_accuracy'])\n"
          ]
        }
      ]
    },
    {
      "cell_type": "code",
      "metadata": {
        "colab": {
          "base_uri": "https://localhost:8080/",
          "height": 295
        },
        "id": "rdj1J7rqXLkp",
        "outputId": "4029ff10-9a8c-408e-b5ff-e9ec7ee4fc54"
      },
      "source": [
        "pyplot.plot(history.history[\"loss\"])\n",
        "pyplot.plot(history.history[\"val_loss\"])\n",
        "pyplot.title(\"model loss\")\n",
        "pyplot.ylabel(\"loss\")\n",
        "pyplot.xlabel(\"epoch\")\n",
        "pyplot.legend([\"train\", \"val\"], loc = 'best')\n",
        "pyplot.show()"
      ],
      "execution_count": 132,
      "outputs": [
        {
          "output_type": "display_data",
          "data": {
            "image/png": "[encoded data removed]",
            "text/plain": [
              "<Figure size 432x288 with 1 Axes>"
            ]
          },
          "metadata": {
            "needs_background": "light"
          }
        }
      ]
    },
    {
      "cell_type": "code",
      "metadata": {
        "colab": {
          "base_uri": "https://localhost:8080/",
          "height": 295
        },
        "id": "xfhaoCYnXLnW",
        "outputId": "86f050af-feb0-4f70-9b2a-ef5c8aa4521c"
      },
      "source": [
        "pyplot.plot(history.history[\"accuracy\"])\n",
        "pyplot.plot(history.history[\"val_accuracy\"])\n",
        "pyplot.title(\"model accuracy\")\n",
        "pyplot.ylabel(\"accuracy\")\n",
        "pyplot.xlabel(\"epoch\")\n",
        "pyplot.legend([\"train\", \"val\"], loc = 'best')\n",
        "pyplot.show()"
      ],
      "execution_count": 133,
      "outputs": [
        {
          "output_type": "display_data",
          "data": {
            "image/png": "[encoded data removed]",
            "text/plain": [
              "<Figure size 432x288 with 1 Axes>"
            ]
          },
          "metadata": {
            "needs_background": "light"
          }
        }
      ]
    }
  ]
}